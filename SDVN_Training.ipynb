{
  "cells": [
    {
      "cell_type": "markdown",
      "metadata": {
        "id": "-iUUqhJBwbNW"
      },
      "source": [
        "# [![](https://img.shields.io/badge/Kohya%20Setting-Wiki-Blue)](https://github.com/kohya-ss/sd-scripts/tree/sd3?tab=readme-ov-file#flux1-fine-tuning) [![](https://img.shields.io/badge/Video-Hướng%20dẫn-ff0000)](https://youtu.be/UCLlbxQD0uk) [![](https://img.shields.io/badge/Design-stablediffusion.vn-0075ff)](https://stablediffusion.vn) [![](https://img.shields.io/badge/Ver-1.0-0075ff)](https://trainlora.vn) [![](https://img.shields.io/badge/All%20Tools-sdvn.me-0075ff)](https://stablediffusion.vn/bo-cong-cu/) [![](https://img.shields.io/badge/Khoá%20học-SD%20Flux-red)](https://hungdiffusion.com/) [![](https://img.shields.io/badge/Group-Support-0075ff)](https://www.facebook.com/groups/stablediffusion.vn) [![](https://img.shields.io/discord/813085864355037235?color=blue&label=Discord&logo=Discord)](https://discord.gg/5SEtApPeyG)\n",
        "---\n",
        "`✨ Fix resume train`"
      ]
    },
    {
      "cell_type": "markdown",
      "metadata": {
        "id": "bCvAV9ogvkXF"
      },
      "source": [
        "#💽 Install"
      ]
    },
    {
      "cell_type": "code",
      "execution_count": null,
      "metadata": {
        "cellView": "form",
        "id": "xPSymyd6divi"
      },
      "outputs": [],
      "source": [
        "# @title ###💽 Download + Install\n",
        "import os\n",
        "from google.colab import drive\n",
        "drive.mount('/content/drive')\n",
        "\n",
        "data_dir = \"/content/drive/MyDrive/SD-Data\"\n",
        "repo_dir = \"/content/SDVN-training-colab-flux\"\n",
        "\n",
        "TrainType = \"Flux\" # @param [\"Flux\", \"SDXL\", \"SD15\"]\n",
        "\n",
        "brand_d = {\n",
        "    \"Flux\": \"sd3\",\n",
        "    \"SDXL\": \"main\",\n",
        "    \"SD15\": \"main\"\n",
        "}\n",
        "\n",
        "model_folder = \"/content/model\"\n",
        "\n",
        "#Install\n",
        "!git clone -b dev https://github.com/StableDiffusionVN/SDVN-training-colab-flux\n",
        "!pip install -q -r /content/SDVN-training-colab-flux/requirements.txt\n",
        "\n",
        "if os.path.exists('/content/sd-scripts'):\n",
        "  %cd /content/sd-scripts\n",
        "  !git checkout {brand_d[TrainType]}\n",
        "else:\n",
        "  %cd /content\n",
        "  !git clone -b {brand_d[TrainType]} https://github.com/kohya-ss/sd-scripts\n",
        "  !sed -i 's/^bitsandbytes==0.44.0/bitsandbytes/' /content/sd-scripts/requirements.txt\n",
        "if TrainType != \"Flux\":\n",
        "  !sed -i 's/^# for Image utils/numpy<2.0/' /content/sd-scripts/requirements.txt\n",
        "\n",
        "%cd /content/sd-scripts\n",
        "!pip install -q -r /content/sd-scripts/requirements.txt\n",
        "%cd /content\n",
        "%run {repo_dir}/TrainScript.ipynb"
      ]
    },
    {
      "cell_type": "markdown",
      "metadata": {
        "id": "4qIyxUZxve1a"
      },
      "source": [
        "#📂 II. Xử lý dữ liệu"
      ]
    },
    {
      "cell_type": "code",
      "execution_count": null,
      "metadata": {
        "cellView": "form",
        "id": "WYO41fYFkRDl"
      },
      "outputs": [],
      "source": [
        "#@title ✨ 2.1 Caption\n",
        "#@markdown [![](https://img.shields.io/badge/Caption-Tools-blue)](https://colab.research.google.com/github/StableDiffusionVN/SDVN-training-colab-flux/blob/main/SDVN_Caption_Tools.ipynb)\n",
        "\n",
        "TrainFolder = \"/content/drive/MyDrive/SD-Data/TrainData\"  # @param {type:'string'}\n",
        "DataClean = False #@param {type:\"boolean\"}\n",
        "No_gen_caption = False #@param {type:\"boolean\"}\n",
        "# @markdown 🟡 `OCR Prompt`\n",
        "\n",
        "#@markdown 💡 ` Florence yêu cầu khởi động lại phiên (Ctr + M + .) và chạy lại từ đầu`\n",
        "Caption = 'None' # @param ['None', 'WD14','Florence', 'APIGemini | 2.0 Flash', 'APIGemini | 2.0 Flash Lite', 'APIGemini | 2.5 Flash Preview', ' APIGemini | 2.5 Pro Preview', 'APIOpenAI | GPT 4-o mini', 'APIOpenAI | GPT o4-mini']\n",
        "Caption_Length = \"Medium\" # @param [\"Short\",\"Medium\",\"Long\"]\n",
        "# @markdown 🟡 `API Caption`\n",
        "APIkey = \"\" # @param {type:'string'}\n",
        "API_Prompt = \"\" # @param {type:'string'}\n",
        "# @markdown 🟡 `Thêm caption tuỳ chọn`\n",
        "Custom_Caption = \"\" # @param {type:'string'}\n",
        "AddFolderName = False #@param {type:\"boolean\"}\n",
        "Remove_Caption = False #@param {type:\"boolean\"}\n",
        "Append = False #@param {type:\"boolean\"}\n",
        "\n",
        "if No_gen_caption == True:\n",
        "  Caption = 'None'\n",
        "  Custom_Caption = ''\n",
        "  AddFolderName = False\n",
        "\n",
        "Cap_prompt = {\n",
        "    'Short':['<CAPTION>',0.85, 30],\n",
        "    'Medium':['<DETAILED_CAPTION>',0.5, 60],\n",
        "    'Long':['<MORE_DETAILED_CAPTION>',0.35, 100]\n",
        "}\n",
        "extension =\".txt\"\n",
        "\n",
        "if DataClean == True :\n",
        "  %cd /content\n",
        "  clean_directory(TrainFolder)\n",
        "if Caption != \"None\":\n",
        "  caption_dir(TrainFolder,Cap_prompt[Caption_Length])\n",
        "if AddFolderName:\n",
        "  add_forder_name(TrainFolder)\n",
        "if Custom_Caption != \"\":\n",
        "  process_dir(TrainFolder, Custom_Caption, Append, Remove_Caption)\n"
      ]
    },
    {
      "cell_type": "markdown",
      "metadata": {
        "id": "zp5mJmBGF8Y6"
      },
      "source": [
        "#⏳ III. Training Lora"
      ]
    },
    {
      "cell_type": "code",
      "execution_count": null,
      "metadata": {
        "cellView": "form",
        "id": "_E39CeGMgpHT"
      },
      "outputs": [],
      "source": [
        "#@title ###⚡️ Cấu hình train Lora\n",
        "%run {repo_dir}/Config.ipynb\n",
        "\n",
        "output_name = \"lora_name\" # @param {\"type\":\"string\"}\n",
        "output_dir = \"/content/drive/MyDrive/SD-Data/Lora\" # @param {\"type\":\"string\"}\n",
        "\n",
        "#@markdown `💡 Nhận đường dẫn thư mục, đường dẫn tải về, địa chỉ civitAI, huggingface, danh sách trong list có sẵn. Mặc định Flux dùng model gốc`\n",
        "model_train = \"\" #@param [\"\",\"RealisticVision51\", \"SDXL-Base\", \"STOIQO-NewRealityXLPro\", \"RealVisXLv5\", \"CharacterArtXL\", \"RealMythXL_v7\", \"XXMix_9realisticSDXL\", \"LEOSAM-HelloWorldXL\", \"AdamXL-v3\", \"JuggernautXL-v9\", \"Illustrious-XL\", \"PonyDiffusionV6XL\"] {allow-input: true}\n",
        "image_dir = TrainFolder\n",
        "#@markdown `💡 Nhập nhiều size để train nhiều kích thước (chỉ dùng cho flux), vd: 768,1024,1280; chỉ định batch riêng cho từng size, vd: 768-6,1024-4,1280-2`\n",
        "resolution = \"1024\" # @param {\"type\":\"string\"}\n",
        "#@markdown `💡 Điều chỉnh theo mức độ tiêu thụ GPU(phụ thuộc GPU, resolution, optimizer_type)`\n",
        "batch_size = 2 # @param {\"type\":\"number\"}\n",
        "flip = False # @param {\"type\":\"boolean\"}\n",
        "color_aug = False # @param {\"type\":\"boolean\"}\n",
        "shuffle_caption = False # @param {\"type\":\"boolean\"}\n",
        "#@markdown `💡 Có thể điều chỉnh repeat cho từng thư mục bằng cách đặt tên thư mục theo cú pháp {repeat}_{folder_name}`\n",
        "num_repeats = 24 # @param {\"type\":\"number\"}\n",
        "epochs = 4 # @param {\"type\":\"number\"}\n",
        "save_every_n_epochs = 1 # @param {\"type\":\"number\"}\n",
        "save_every_n_steps = 0 # @param {\"type\":\"number\"}\n",
        "lr = 1e-4 # @param {\"type\":\"number\"}\n",
        "lr_scheduler = \"constant\" # @param [\"constant\",\"cosine\",\"linear\",\"cosine_with_restarts\",\"adafactor\",\"polynomial\",\"constant_with_warmup\"]\n",
        "dim = 32 # @param {\"type\":\"number\"}\n",
        "alpha = 16 # @param {\"type\":\"number\"}\n",
        "optimizer_type = 'adamw8bit' # @param [\"adafactor\",\"adamw8bit\"]\n",
        "train_textencode = True # @param {\"type\":\"boolean\"}\n",
        "\n",
        "#@markdown `*️⃣ Tuỳ chọn mở rộng`\n",
        "Extra = True # @param {\"type\":\"boolean\"}\n",
        "author = '' # @param {\"type\":\"string\"}\n",
        "#@markdown `💡 Gen ảnh sample hiện không khả dụng với SD15`\n",
        "sample_prompt = '' # @param {\"type\":\"string\"}\n",
        "sample_size = '768,1024' # @param {\"type\":\"string\"}\n",
        "sample_steps = 100 # @param {\"type\":\"number\"}\n",
        "save_state = False # @param {\"type\":\"boolean\"}\n",
        "resume = '' # @param {\"type\":\"string\"}\n",
        "wandbapi = '' # @param {\"type\":\"string\"}\n",
        "#@markdown `☕️ Training`\n",
        "runcode = False # @param {\"type\":\"boolean\"}\n",
        "output_dir = f\"{output_dir}/{output_name}\"\n",
        "dataset = f'/content/dataset_{output_name}.toml'\n",
        "AutoDisconect = False # @param {\"type\":\"boolean\"}\n",
        "\n",
        "#Config\n",
        "if TrainType == 'SD15':\n",
        "  sample_steps =0\n",
        "\n",
        "model_train = flux_path if TrainType == 'Flux' else download_lib(model_train)\n",
        "data_config = data_config(flip, color_aug, shuffle_caption)\n",
        "config = config(TrainType, model_train, flux_path, clip_l_path, t5xxl_fp16_path, vae_path, dim, alpha, train_textencode, optimizer_type, lr, lr_scheduler, epochs, save_every_n_epochs, save_every_n_steps, dataset, output_dir, output_name)\n",
        "extra = extra(TrainType, output_name, author,save_state, resume, wandbapi, sample_steps, runcode)\n",
        "prompt(sample_prompt, sample_size, TrainFolder)\n",
        "dataset_file(resolution, batch_size, image_dir, num_repeats, data_config, dataset)\n",
        "arg = f'accelerate launch {dic2arg(op)} {lora_train_py[TrainType]} {dic2arg(config)} {dic2arg(extra) if Extra else \"\"}'\n",
        "check_folder_train(image_dir)\n",
        "\n",
        "if resume != \"\":\n",
        "  !pip install -q -U accelerate\n",
        "\n",
        "print('Chạy lệnh sau trong Terminal( Cửa sổ dòng lệnh) hoặc bật chế độ runcode (Sẽ không hiển thị thông báo):')\n",
        "print(f\"cd /content/sd-scripts;{arg}\")\n",
        "if runcode:\n",
        "  %cd /content/sd-scripts\n",
        "  !{arg}\n",
        "if AutoDisconect:\n",
        "  from time import sleep\n",
        "  sleep(3*60)\n",
        "  from google.colab import runtime\n",
        "  runtime.unassign()"
      ]
    },
    {
      "cell_type": "markdown",
      "metadata": {
        "id": "MUyrgzF2F8Y7"
      },
      "source": [
        "#⏳ IV. Training Checkpoint"
      ]
    },
    {
      "cell_type": "code",
      "execution_count": null,
      "metadata": {
        "cellView": "form",
        "id": "TG-C9wQQF8Y7"
      },
      "outputs": [],
      "source": [
        "#@title ###⚡️ Cấu hình train Checkpoint\n",
        "%run {repo_dir}/Config.ipynb\n",
        "output_name = \"checkpoint_name\" # @param {\"type\":\"string\"}\n",
        "output_dir = \"/content/drive/MyDrive/SD-Data/Model\" # @param {\"type\":\"string\"}\n",
        "#@markdown `💡 Nhận đường dẫn thư mục, đường dẫn tải về, địa chỉ civitAI, huggingface, danh sách trong list có sẵn. Mặc định Flux dùng model gốc`\n",
        "model_train = \"\" #@param [\"\",\"RealisticVision51\", \"SDXL-Base\", \"STOIQO-NewRealityXLPro\", \"RealVisXLv5\", \"CharacterArtXL\", \"RealMythXL_v7\", \"XXMix_9realisticSDXL\", \"LEOSAM-HelloWorldXL\", \"AdamXL-v3\", \"JuggernautXL-v9\", \"Illustrious-XL\", \"PonyDiffusionV6XL\"] {allow-input: true}\n",
        "image_dir = TrainFolder\n",
        "#@markdown `💡 Nhập nhiều size để train nhiều kích thước (chỉ dùng cho flux), vd: 768,1024,1280; chỉ định batch riêng cho từng size, vd: 768-6,1024-4,1280-2`\n",
        "resolution = \"1024\" # @param {\"type\":\"string\"}\n",
        "#@markdown `💡 Điều chỉnh theo mức độ tiêu thụ GPU(phụ thuộc GPU, resolution, optimizer_type)`\n",
        "batch_size = 1 # @param {\"type\":\"number\"}\n",
        "flip = False # @param {\"type\":\"boolean\"}\n",
        "color_aug = False # @param {\"type\":\"boolean\"}\n",
        "shuffle_caption = False # @param {\"type\":\"boolean\"}\n",
        "#@markdown `💡 Có thể điều chỉnh repeat cho từng thư mục bằng cách đặt tên thư mục theo cú pháp {repeat}_{folder_name}`\n",
        "num_repeats = 10 # @param {\"type\":\"number\"}\n",
        "epochs = 4 # @param {\"type\":\"number\"}\n",
        "save_every_n_epochs = 1 # @param {\"type\":\"number\"}\n",
        "save_every_n_steps = 0 # @param {\"type\":\"number\"}\n",
        "lr = 1e-6 # @param {\"type\":\"number\"}\n",
        "lr_scheduler = \"constant\" # @param [\"constant\",\"cosine\",\"linear\",\"cosine_with_restarts\",\"adafactor\",\"polynomial\",\"constant_with_warmup\"]\n",
        "#@markdown `💡 Chọn Adafactor để giảm tải GPU Flux/SDXL (Sẽ vô hiệu Lr Scheduler)`\n",
        "optimizer_type = 'adamw8bit' # @param [\"adafactor\",\"adamw8bit\"]\n",
        "\n",
        "#@markdown `*️⃣ Tuỳ chọn mở rộng`\n",
        "Extra = True # @param {\"type\":\"boolean\"}\n",
        "author = '' # @param {\"type\":\"string\"}\n",
        "#@markdown `💡 Gen ảnh sample hiện không khả dụng với SD15`\n",
        "sample_prompt = '' # @param {\"type\":\"string\"}\n",
        "sample_size = '768,1024' # @param {\"type\":\"string\"}\n",
        "sample_steps = 100 # @param {\"type\":\"number\"}\n",
        "save_state = False # @param {\"type\":\"boolean\"}\n",
        "resume = '' # @param {\"type\":\"string\"}\n",
        "wandbapi = '' # @param {\"type\":\"string\"}\n",
        "#@markdown `☕️ Training`\n",
        "runcode = False # @param {\"type\":\"boolean\"}\n",
        "output_dir = f\"{output_dir}/{output_name}\"\n",
        "dataset = f'/content/dataset_{output_name}.toml'\n",
        "AutoDisconect = False # @param {\"type\":\"boolean\"}\n",
        "\n",
        "def config_cp(TrainType, model_train, flux_path, clip_l_path, t5xxl_fp16_path, vae_path, optimizer_type, lr, lr_scheduler, epochs, save_every_n_epochs, save_every_n_steps, dataset, output_dir, output_name):\n",
        "  return {\n",
        "    '--pretrained_model_name_or_path': flux_path if TrainType == 'Flux' else model_train,\n",
        "    '--clip_l': clip_l_path if TrainType == 'Flux' else False,\n",
        "    '--t5xxl': t5xxl_fp16_path if TrainType == 'Flux' else False,\n",
        "    '--ae': vae_path if TrainType == 'Flux' else False,\n",
        "    '--cache_latents_to_disk': True,\n",
        "    '--save_model_as': 'safetensors',\n",
        "    '--sdpa': True,\n",
        "    '--persistent_data_loader_workers': True,\n",
        "    '--max_data_loader_n_workers': 2,\n",
        "    '--seed': 42,\n",
        "    '--gradient_checkpointing': True,\n",
        "    '--mixed_precision': 'bf16',\n",
        "    '--save_precision': 'bf16',\n",
        "    '--optimizer_type': optimizer_type,\n",
        "    '--optimizer_args': '\"relative_step=False\" \"scale_parameter=False\" \"warmup_init=False\"' if optimizer_type == 'adafactor' else False,\n",
        "    '--learning_rate': lr,\n",
        "    '--lr_scheduler': 'constant_with_warmup' if optimizer_type == 'adafactor' else lr_scheduler,\n",
        "    '--unet_lr': False,\n",
        "    '--text_encoder_lr': False,\n",
        "    '--cache_text_encoder_outputs': True if TrainType == 'Flux' else False,\n",
        "    '--cache_text_encoder_outputs_to_disk': True if TrainType == 'Flux' else False,\n",
        "    '--fp8_base': True if TrainType == 'Flux' else False,\n",
        "    '--highvram': True,\n",
        "    '--max_train_epochs': epochs,\n",
        "    '--save_every_n_epochs': False if save_every_n_epochs <= 0 else save_every_n_epochs,\n",
        "    '--save_every_n_steps': False if save_every_n_steps <= 0 else save_every_n_steps,\n",
        "    '--dataset_config': f'\"{dataset}\"',\n",
        "    '--output_dir': f'\"{output_dir}\"',\n",
        "    '--output_name': f'\"{output_name}\"',\n",
        "    '--timestep_sampling': 'shift' if TrainType == 'Flux' else False,\n",
        "    '--discrete_flow_shift': 3.1582 if TrainType == 'Flux' else False,\n",
        "    '--model_prediction_type': 'raw' if TrainType == 'Flux' else False,\n",
        "    '--guidance_scale': 1.0 if TrainType == 'Flux' else False,\n",
        "    '--max_bucket_reso': 2048,\n",
        "    '--min_bucket_reso': 256 if TrainType == 'SD15' else 512,\n",
        "  }\n",
        "#Config\n",
        "if TrainType == 'SD15':\n",
        "  sample_steps =0\n",
        "\n",
        "model_train = flux_path if TrainType == 'Flux' else download_lib(model_train)\n",
        "\n",
        "data_config = data_config(flip, color_aug, shuffle_caption)\n",
        "config = config_cp(TrainType, model_train, flux_path, clip_l_path, t5xxl_fp16_path, vae_path, optimizer_type, lr, lr_scheduler, epochs, save_every_n_epochs, save_every_n_steps, dataset, output_dir, output_name)\n",
        "extra = extra_cp(TrainType, output_name, author,save_state, resume, wandbapi, sample_steps, runcode)\n",
        "prompt(sample_prompt, sample_size, TrainFolder)\n",
        "dataset_file(resolution, batch_size, image_dir, num_repeats, data_config, dataset)\n",
        "arg = f'accelerate launch {dic2arg(op)} {db_train_py[TrainType]} {dic2arg(config)} {dic2arg(extra) if Extra else \"\"}'\n",
        "check_folder_train(image_dir)\n",
        "\n",
        "if resume != \"\":\n",
        "  !pip install -q -U accelerate\n",
        "\n",
        "print('Chạy lệnh sau trong Terminal( Cửa sổ dòng lệnh) hoặc bật chế độ runcode (Sẽ không hiển thị thông báo):')\n",
        "print(f\"cd /content/sd-scripts;{arg}\")\n",
        "if runcode:\n",
        "  %cd /content/sd-scripts\n",
        "  !{arg}\n",
        "if AutoDisconect:\n",
        "  from time import sleep\n",
        "  sleep(3*60)\n",
        "  from google.colab import runtime\n",
        "  runtime.unassign()\n"
      ]
    },
    {
      "cell_type": "markdown",
      "metadata": {
        "id": "4SQ6DvybMMs1"
      },
      "source": [
        "#👨🏻‍💻 V.Tools and Dev"
      ]
    },
    {
      "cell_type": "code",
      "execution_count": null,
      "metadata": {
        "cellView": "form",
        "id": "Np9FAvGhMS8Z"
      },
      "outputs": [],
      "source": [
        "# @title ⏳ RunSleep\n",
        "#@markdown `Tác vụ vô dụng để tránh bị ngắt trong lúc train bằng terminal`\n",
        "from time import sleep\n",
        "Min = 200 # @param {\"type\":\"number\"}\n",
        "sleep(Min*60)"
      ]
    }
  ],
  "metadata": {
    "accelerator": "GPU",
    "colab": {
      "collapsed_sections": [
        "MUyrgzF2F8Y7",
        "4SQ6DvybMMs1"
      ],
      "gpuType": "A100",
      "machine_shape": "hm",
      "private_outputs": true,
      "provenance": []
    },
    "kernelspec": {
      "display_name": "Python 3",
      "name": "python3"
    },
    "language_info": {
      "name": "python"
    }
  },
  "nbformat": 4,
  "nbformat_minor": 0
}